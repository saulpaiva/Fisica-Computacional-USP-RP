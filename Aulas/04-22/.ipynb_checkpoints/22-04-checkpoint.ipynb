{
 "cells": [
  {
   "cell_type": "code",
   "execution_count": null,
   "id": "629f5a1b",
   "metadata": {},
   "outputs": [],
   "source": []
  },
  {
   "cell_type": "code",
   "execution_count": null,
   "id": "065acc29",
   "metadata": {},
   "outputs": [],
   "source": []
  },
  {
   "cell_type": "code",
   "execution_count": null,
   "id": "145690d5",
   "metadata": {},
   "outputs": [],
   "source": []
  },
  {
   "cell_type": "code",
   "execution_count": null,
   "id": "3bc76a02",
   "metadata": {},
   "outputs": [],
   "source": []
  },
  {
   "cell_type": "code",
   "execution_count": null,
   "id": "648bdd33",
   "metadata": {},
   "outputs": [],
   "source": []
  },
  {
   "cell_type": "code",
   "execution_count": null,
   "id": "8c157133",
   "metadata": {},
   "outputs": [],
   "source": []
  },
  {
   "cell_type": "code",
   "execution_count": null,
   "id": "47d5c2a7",
   "metadata": {},
   "outputs": [],
   "source": []
  },
  {
   "cell_type": "code",
   "execution_count": null,
   "id": "5c3da725",
   "metadata": {},
   "outputs": [],
   "source": []
  },
  {
   "cell_type": "code",
   "execution_count": null,
   "id": "a2900e76",
   "metadata": {},
   "outputs": [],
   "source": []
  },
  {
   "cell_type": "code",
   "execution_count": null,
   "id": "31e8eef0",
   "metadata": {},
   "outputs": [],
   "source": []
  },
  {
   "cell_type": "code",
   "execution_count": null,
   "id": "60edf080",
   "metadata": {},
   "outputs": [],
   "source": []
  },
  {
   "cell_type": "code",
   "execution_count": null,
   "id": "77c397d2",
   "metadata": {},
   "outputs": [],
   "source": []
  },
  {
   "cell_type": "code",
   "execution_count": 8,
   "id": "f3b0b761",
   "metadata": {},
   "outputs": [],
   "source": [
    "import numpy as np"
   ]
  },
  {
   "cell_type": "code",
   "execution_count": 5,
   "id": "1f25ef3e",
   "metadata": {},
   "outputs": [
    {
     "data": {
      "text/plain": [
       "array([[1., 0., 0., 0., 0.],\n",
       "       [0., 1., 0., 0., 0.],\n",
       "       [0., 0., 1., 0., 0.],\n",
       "       [0., 0., 0., 1., 0.],\n",
       "       [0., 0., 0., 0., 1.]])"
      ]
     },
     "execution_count": 5,
     "metadata": {},
     "output_type": "execute_result"
    }
   ],
   "source": [
    "np.eye(5)"
   ]
  },
  {
   "cell_type": "code",
   "execution_count": 9,
   "id": "edea0277",
   "metadata": {},
   "outputs": [],
   "source": [
    "np.random.seed(100)"
   ]
  },
  {
   "cell_type": "code",
   "execution_count": 19,
   "id": "42d78875",
   "metadata": {},
   "outputs": [
    {
     "data": {
      "text/plain": [
       "array([17, 72, 13, 30, 17, 53, 68])"
      ]
     },
     "execution_count": 19,
     "metadata": {},
     "output_type": "execute_result"
    }
   ],
   "source": [
    "np.random.randint(0,100,7)"
   ]
  },
  {
   "cell_type": "code",
   "execution_count": 22,
   "id": "570a7658",
   "metadata": {},
   "outputs": [
    {
     "data": {
      "text/plain": [
       "array([[ 4, 31,  1, 13, 83],\n",
       "       [ 4, 91, 59, 67,  7],\n",
       "       [49, 47, 65, 61, 14],\n",
       "       [55, 71, 80,  2, 94],\n",
       "       [19, 98, 63, 53, 27]])"
      ]
     },
     "execution_count": 22,
     "metadata": {},
     "output_type": "execute_result"
    }
   ],
   "source": [
    "M = np.random.randint(0,100,(5,5))\n",
    "M"
   ]
  },
  {
   "cell_type": "code",
   "execution_count": 26,
   "id": "a2f1b1f3",
   "metadata": {},
   "outputs": [
    {
     "data": {
      "text/plain": [
       "array([[ 4, 31,  1, 13, 83,  4, 91, 59, 67,  7, 49, 47, 65, 61, 14, 55,\n",
       "        71, 80,  2, 94, 19, 98, 63, 53, 27]])"
      ]
     },
     "execution_count": 26,
     "metadata": {},
     "output_type": "execute_result"
    }
   ],
   "source": [
    "M.reshape(1,25)"
   ]
  },
  {
   "cell_type": "code",
   "execution_count": 27,
   "id": "90c64d07",
   "metadata": {},
   "outputs": [
    {
     "data": {
      "text/plain": [
       "1"
      ]
     },
     "execution_count": 27,
     "metadata": {},
     "output_type": "execute_result"
    }
   ],
   "source": [
    "M.min()"
   ]
  },
  {
   "cell_type": "code",
   "execution_count": 28,
   "id": "b4105597",
   "metadata": {},
   "outputs": [
    {
     "data": {
      "text/plain": [
       "98"
      ]
     },
     "execution_count": 28,
     "metadata": {},
     "output_type": "execute_result"
    }
   ],
   "source": [
    "M.max()"
   ]
  },
  {
   "cell_type": "code",
   "execution_count": 30,
   "id": "9bfd3ebf",
   "metadata": {},
   "outputs": [],
   "source": [
    "#M.argmin()"
   ]
  },
  {
   "cell_type": "code",
   "execution_count": 31,
   "id": "f3632b5c",
   "metadata": {},
   "outputs": [
    {
     "data": {
      "text/plain": [
       "array([14, 17, 16, 15,  7])"
      ]
     },
     "execution_count": 31,
     "metadata": {},
     "output_type": "execute_result"
    }
   ],
   "source": [
    "a = np.random.randint(0,20,5)\n",
    "a"
   ]
  },
  {
   "cell_type": "code",
   "execution_count": 32,
   "id": "d96e0b21",
   "metadata": {},
   "outputs": [
    {
     "data": {
      "text/plain": [
       "array([53, 46, 52, 58, 40])"
      ]
     },
     "execution_count": 32,
     "metadata": {},
     "output_type": "execute_result"
    }
   ],
   "source": [
    "b = np.random.randint(40,70,5)\n",
    "b"
   ]
  },
  {
   "cell_type": "code",
   "execution_count": 33,
   "id": "d92fea07",
   "metadata": {},
   "outputs": [
    {
     "data": {
      "text/plain": [
       "array([67, 63, 68, 73, 47])"
      ]
     },
     "execution_count": 33,
     "metadata": {},
     "output_type": "execute_result"
    }
   ],
   "source": [
    "a + b"
   ]
  },
  {
   "cell_type": "code",
   "execution_count": 34,
   "id": "e1224dab",
   "metadata": {},
   "outputs": [
    {
     "data": {
      "text/plain": [
       "array([742, 782, 832, 870, 280])"
      ]
     },
     "execution_count": 34,
     "metadata": {},
     "output_type": "execute_result"
    }
   ],
   "source": [
    "a*b"
   ]
  },
  {
   "cell_type": "code",
   "execution_count": 35,
   "id": "33876db6",
   "metadata": {},
   "outputs": [
    {
     "data": {
      "text/plain": [
       "array([0.26415094, 0.36956522, 0.30769231, 0.25862069, 0.175     ])"
      ]
     },
     "execution_count": 35,
     "metadata": {},
     "output_type": "execute_result"
    }
   ],
   "source": [
    "a/b"
   ]
  },
  {
   "cell_type": "code",
   "execution_count": 36,
   "id": "8d4e74ce",
   "metadata": {},
   "outputs": [
    {
     "data": {
      "text/plain": [
       "array([3.78571429, 2.70588235, 3.25      , 3.86666667, 5.71428571])"
      ]
     },
     "execution_count": 36,
     "metadata": {},
     "output_type": "execute_result"
    }
   ],
   "source": [
    "b/a"
   ]
  },
  {
   "cell_type": "code",
   "execution_count": 37,
   "id": "972e20a4",
   "metadata": {},
   "outputs": [
    {
     "data": {
      "text/plain": [
       "array([[34, 10, 17,  8],\n",
       "       [13, 42, 30, 17],\n",
       "       [ 4, 40, 27, 27],\n",
       "       [19, 14,  0, 13]])"
      ]
     },
     "execution_count": 37,
     "metadata": {},
     "output_type": "execute_result"
    }
   ],
   "source": [
    "M = np.random.randint(0,50,(4,4))\n",
    "M"
   ]
  },
  {
   "cell_type": "code",
   "execution_count": 40,
   "id": "ae9c22bf",
   "metadata": {},
   "outputs": [],
   "source": [
    "# M[linha,coluna]\n",
    "# M[linhas][col]\n",
    "# M[inicio:fim:passo]\n",
    "# M[inicio:fim:passo , inicio:fim:passo]"
   ]
  },
  {
   "cell_type": "code",
   "execution_count": 41,
   "id": "45838326",
   "metadata": {},
   "outputs": [
    {
     "data": {
      "text/plain": [
       "array([34, 10, 17,  8])"
      ]
     },
     "execution_count": 41,
     "metadata": {},
     "output_type": "execute_result"
    }
   ],
   "source": [
    "M[0,:]"
   ]
  },
  {
   "cell_type": "code",
   "execution_count": 43,
   "id": "ccf93e66",
   "metadata": {},
   "outputs": [
    {
     "data": {
      "text/plain": [
       "array([17,  8])"
      ]
     },
     "execution_count": 43,
     "metadata": {},
     "output_type": "execute_result"
    }
   ],
   "source": [
    "M[0,2:]"
   ]
  },
  {
   "cell_type": "code",
   "execution_count": 45,
   "id": "d942a1cc",
   "metadata": {},
   "outputs": [
    {
     "data": {
      "text/plain": [
       "array([[42, 30],\n",
       "       [40, 27]])"
      ]
     },
     "execution_count": 45,
     "metadata": {},
     "output_type": "execute_result"
    }
   ],
   "source": [
    "M[1:3,1:3]"
   ]
  },
  {
   "cell_type": "code",
   "execution_count": null,
   "id": "2b356d6b",
   "metadata": {},
   "outputs": [],
   "source": []
  },
  {
   "cell_type": "code",
   "execution_count": 52,
   "id": "9cc2d628",
   "metadata": {},
   "outputs": [
    {
     "data": {
      "text/plain": [
       "array([15, 17, 48, 32, 40, 44, 30, 41, 22, 43, 48, 32, 10, 44, 29, 14, 14,\n",
       "       45, 33, 19])"
      ]
     },
     "execution_count": 52,
     "metadata": {},
     "output_type": "execute_result"
    }
   ],
   "source": [
    "a = np.random.randint(10,50,20)\n",
    "a"
   ]
  },
  {
   "cell_type": "code",
   "execution_count": 53,
   "id": "99f79576",
   "metadata": {},
   "outputs": [
    {
     "data": {
      "text/plain": [
       "array([44, 30, 41, 22, 43, 48, 32, 10, 44, 29, 14, 14, 45, 33, 19])"
      ]
     },
     "execution_count": 53,
     "metadata": {},
     "output_type": "execute_result"
    }
   ],
   "source": [
    "a[5:]"
   ]
  },
  {
   "cell_type": "code",
   "execution_count": 54,
   "id": "433ad232",
   "metadata": {},
   "outputs": [
    {
     "data": {
      "text/plain": [
       "array([ True,  True, False,  True, False, False,  True, False,  True,\n",
       "       False, False,  True,  True, False,  True,  True,  True, False,\n",
       "        True,  True])"
      ]
     },
     "execution_count": 54,
     "metadata": {},
     "output_type": "execute_result"
    }
   ],
   "source": [
    "a < 40"
   ]
  },
  {
   "cell_type": "code",
   "execution_count": 55,
   "id": "67ea6dcc",
   "metadata": {},
   "outputs": [
    {
     "data": {
      "text/plain": [
       "array([15, 17, 32, 30, 22, 32, 10, 29, 14, 14, 33, 19])"
      ]
     },
     "execution_count": 55,
     "metadata": {},
     "output_type": "execute_result"
    }
   ],
   "source": [
    "a[a<40]"
   ]
  },
  {
   "cell_type": "code",
   "execution_count": 58,
   "id": "4a2a6083",
   "metadata": {},
   "outputs": [
    {
     "data": {
      "text/plain": [
       "array([-4.  , -1.25,  1.5 ,  4.25,  7.  ])"
      ]
     },
     "execution_count": 58,
     "metadata": {},
     "output_type": "execute_result"
    }
   ],
   "source": [
    "v = np.linspace(-4,7,5)\n",
    "v"
   ]
  },
  {
   "cell_type": "code",
   "execution_count": 59,
   "id": "ff64a09b",
   "metadata": {},
   "outputs": [],
   "source": [
    "vplus = v[v>0]"
   ]
  },
  {
   "cell_type": "code",
   "execution_count": 60,
   "id": "2ce70d38",
   "metadata": {},
   "outputs": [
    {
     "data": {
      "text/plain": [
       "array([1.5 , 4.25, 7.  ])"
      ]
     },
     "execution_count": 60,
     "metadata": {},
     "output_type": "execute_result"
    }
   ],
   "source": [
    "vplus"
   ]
  },
  {
   "cell_type": "code",
   "execution_count": 61,
   "id": "c91fd721",
   "metadata": {},
   "outputs": [
    {
     "data": {
      "text/plain": [
       "array([-4.  , -1.25])"
      ]
     },
     "execution_count": 61,
     "metadata": {},
     "output_type": "execute_result"
    }
   ],
   "source": [
    "vneg = v[v<0]\n",
    "vneg"
   ]
  },
  {
   "cell_type": "markdown",
   "id": "81f36bc1",
   "metadata": {},
   "source": [
    "# Resolver uma equação de soma S"
   ]
  },
  {
   "cell_type": "code",
   "execution_count": 62,
   "id": "08334baa",
   "metadata": {},
   "outputs": [
    {
     "data": {
      "text/plain": [
       "array([  0,   1,   2,   3,   4,   5,   6,   7,   8,   9,  10,  11,  12,\n",
       "        13,  14,  15,  16,  17,  18,  19,  20,  21,  22,  23,  24,  25,\n",
       "        26,  27,  28,  29,  30,  31,  32,  33,  34,  35,  36,  37,  38,\n",
       "        39,  40,  41,  42,  43,  44,  45,  46,  47,  48,  49,  50,  51,\n",
       "        52,  53,  54,  55,  56,  57,  58,  59,  60,  61,  62,  63,  64,\n",
       "        65,  66,  67,  68,  69,  70,  71,  72,  73,  74,  75,  76,  77,\n",
       "        78,  79,  80,  81,  82,  83,  84,  85,  86,  87,  88,  89,  90,\n",
       "        91,  92,  93,  94,  95,  96,  97,  98,  99, 100])"
      ]
     },
     "execution_count": 62,
     "metadata": {},
     "output_type": "execute_result"
    }
   ],
   "source": [
    "xvec = np.arange(0,101,1)\n",
    "xvec"
   ]
  },
  {
   "cell_type": "code",
   "execution_count": 64,
   "id": "f1a5b561",
   "metadata": {},
   "outputs": [],
   "source": [
    "s = 0\n",
    "for x in xvec:\n",
    "    s = s + np.sqrt(x*np.pi/100)*np.sin(x*np.pi/100)"
   ]
  },
  {
   "cell_type": "code",
   "execution_count": 65,
   "id": "84ebcdd7",
   "metadata": {},
   "outputs": [
    {
     "data": {
      "text/plain": [
       "77.51389798916512"
      ]
     },
     "execution_count": 65,
     "metadata": {},
     "output_type": "execute_result"
    }
   ],
   "source": [
    "s"
   ]
  },
  {
   "cell_type": "code",
   "execution_count": 66,
   "id": "036be3de",
   "metadata": {},
   "outputs": [],
   "source": [
    "x = np.arange(0,101,1)"
   ]
  },
  {
   "cell_type": "code",
   "execution_count": 69,
   "id": "c2f70810",
   "metadata": {},
   "outputs": [
    {
     "data": {
      "text/plain": [
       "array([0.00000000e+00, 5.56741209e-03, 1.57392492e-02, 2.88910651e-02,\n",
       "       4.44294745e-02, 6.20000986e-02, 8.13536126e-02, 1.02297664e-01,\n",
       "       1.24674621e-01, 1.48349658e-01, 1.73203754e-01, 1.99129267e-01,\n",
       "       2.26027012e-01, 2.53804240e-01, 2.82373209e-01, 3.11650143e-01,\n",
       "       3.41554462e-01, 3.72008202e-01, 4.02935578e-01, 4.34262651e-01,\n",
       "       4.65917067e-01, 4.97827867e-01, 5.29925333e-01, 5.62140880e-01,\n",
       "       5.94406974e-01, 6.26657069e-01, 6.58825573e-01, 6.90847822e-01,\n",
       "       7.22660071e-01, 7.54199491e-01, 7.85404180e-01, 8.16213181e-01,\n",
       "       8.46566500e-01, 8.76405138e-01, 9.05671116e-01, 9.34307516e-01,\n",
       "       9.62258516e-01, 9.89469429e-01, 1.01588674e+00, 1.04145817e+00,\n",
       "       1.06613268e+00, 1.08986056e+00, 1.11259344e+00, 1.13428435e+00,\n",
       "       1.15488777e+00, 1.17435965e+00, 1.19265748e+00, 1.20974034e+00,\n",
       "       1.22556889e+00, 1.24010548e+00, 1.25331414e+00, 1.26516064e+00,\n",
       "       1.27561254e+00, 1.28463919e+00, 1.29221180e+00, 1.29830344e+00,\n",
       "       1.30288912e+00, 1.30594577e+00, 1.30745228e+00, 1.30738957e+00,\n",
       "       1.30574054e+00, 1.30249014e+00, 1.29762541e+00, 1.29113541e+00,\n",
       "       1.28301135e+00, 1.27324652e+00, 1.26183633e+00, 1.24877831e+00,\n",
       "       1.23407213e+00, 1.21771962e+00, 1.19972470e+00, 1.18009348e+00,\n",
       "       1.15883417e+00, 1.13595713e+00, 1.11147483e+00, 1.08540188e+00,\n",
       "       1.05775496e+00, 1.02855285e+00, 9.97816410e-01, 9.65568527e-01,\n",
       "       9.31834134e-01, 8.96640163e-01, 8.60015523e-01, 8.21991072e-01,\n",
       "       7.82599588e-01, 7.41875731e-01, 6.99856011e-01, 6.56578750e-01,\n",
       "       6.12084042e-01, 5.66413709e-01, 5.19611262e-01, 4.71721848e-01,\n",
       "       4.22792209e-01, 3.72870627e-01, 3.22006875e-01, 2.70252164e-01,\n",
       "       2.17659084e-01, 1.64281551e-01, 1.10174744e-01, 5.53950509e-02,\n",
       "       2.17062994e-16])"
      ]
     },
     "execution_count": 69,
     "metadata": {},
     "output_type": "execute_result"
    }
   ],
   "source": [
    "S = np.sqrt(x*np.pi/100)*np.sin(x*np.pi/100)\n",
    "S"
   ]
  },
  {
   "cell_type": "code",
   "execution_count": 70,
   "id": "0d988f24",
   "metadata": {},
   "outputs": [
    {
     "data": {
      "text/plain": [
       "77.51389798916512"
      ]
     },
     "execution_count": 70,
     "metadata": {},
     "output_type": "execute_result"
    }
   ],
   "source": [
    "np.sum(S)"
   ]
  },
  {
   "cell_type": "code",
   "execution_count": 71,
   "id": "ef778eb2",
   "metadata": {},
   "outputs": [],
   "source": [
    "#funções"
   ]
  },
  {
   "cell_type": "code",
   "execution_count": 72,
   "id": "f1b44a53",
   "metadata": {},
   "outputs": [],
   "source": [
    "def nome(parametros):\n",
    "    bloco\n",
    "    return valor"
   ]
  },
  {
   "cell_type": "code",
   "execution_count": 73,
   "id": "51e2e7ce",
   "metadata": {},
   "outputs": [],
   "source": [
    "def vezes2(num):\n",
    "    result = num*2\n",
    "    return result"
   ]
  },
  {
   "cell_type": "code",
   "execution_count": 74,
   "id": "70d00427",
   "metadata": {},
   "outputs": [
    {
     "data": {
      "text/plain": [
       "200"
      ]
     },
     "execution_count": 74,
     "metadata": {},
     "output_type": "execute_result"
    }
   ],
   "source": [
    "vezes2(100)"
   ]
  },
  {
   "cell_type": "markdown",
   "id": "627964fe",
   "metadata": {},
   "source": [
    "# Criar uma função para criar funções quadráticas"
   ]
  },
  {
   "cell_type": "code",
   "execution_count": 87,
   "id": "84e2a4dd",
   "metadata": {},
   "outputs": [],
   "source": [
    "# import cmath as cm (numeros complexos)"
   ]
  },
  {
   "cell_type": "code",
   "execution_count": 82,
   "id": "970b7dfe",
   "metadata": {},
   "outputs": [],
   "source": [
    "def roots(a,b,c):\n",
    "    import cmath as cm\n",
    "    x1 = (-b + cm.sqrt(b**2 - 4*a*c)) / 2*a\n",
    "    x2 = (-b - cm.sqrt(b**2 - 4*a*c)) / 2*a\n",
    "    return x1,x2"
   ]
  },
  {
   "cell_type": "code",
   "execution_count": 85,
   "id": "b88fb3d3",
   "metadata": {},
   "outputs": [],
   "source": [
    "x = 1\n",
    "y = 2\n",
    "z = 3"
   ]
  },
  {
   "cell_type": "code",
   "execution_count": 89,
   "id": "8de3178f",
   "metadata": {},
   "outputs": [],
   "source": [
    "x0,x1 = roots(x,y,z)"
   ]
  },
  {
   "cell_type": "code",
   "execution_count": null,
   "id": "94cf535e",
   "metadata": {},
   "outputs": [],
   "source": []
  },
  {
   "cell_type": "code",
   "execution_count": 90,
   "id": "376f05f9",
   "metadata": {},
   "outputs": [
    {
     "data": {
      "text/plain": [
       "(-1+1.4142135623730951j)"
      ]
     },
     "execution_count": 90,
     "metadata": {},
     "output_type": "execute_result"
    }
   ],
   "source": [
    "x0"
   ]
  },
  {
   "cell_type": "code",
   "execution_count": 91,
   "id": "56c8850b",
   "metadata": {},
   "outputs": [
    {
     "data": {
      "text/plain": [
       "(-1-1.4142135623730951j)"
      ]
     },
     "execution_count": 91,
     "metadata": {},
     "output_type": "execute_result"
    }
   ],
   "source": [
    "x1"
   ]
  },
  {
   "cell_type": "code",
   "execution_count": 101,
   "id": "7e3cc2f2",
   "metadata": {},
   "outputs": [],
   "source": [
    "def S(x):\n",
    "    s = np.sqrt(x*np.pi/100)*np.sin(x*np.pi/100)\n",
    "    return s"
   ]
  },
  {
   "cell_type": "code",
   "execution_count": 102,
   "id": "796ad27f",
   "metadata": {},
   "outputs": [],
   "source": [
    "x = np.arange(0,101,1)"
   ]
  },
  {
   "cell_type": "code",
   "execution_count": 104,
   "id": "076ebfce",
   "metadata": {},
   "outputs": [],
   "source": [
    "soma = S(x)"
   ]
  },
  {
   "cell_type": "code",
   "execution_count": 105,
   "id": "34ab2963",
   "metadata": {},
   "outputs": [
    {
     "data": {
      "text/plain": [
       "77.51389798916512"
      ]
     },
     "execution_count": 105,
     "metadata": {},
     "output_type": "execute_result"
    }
   ],
   "source": [
    "np.sum(soma)"
   ]
  },
  {
   "cell_type": "code",
   "execution_count": 109,
   "id": "3985af01",
   "metadata": {},
   "outputs": [
    {
     "data": {
      "text/plain": [
       "array([[0., 0., 0., 0.],\n",
       "       [0., 0., 0., 0.],\n",
       "       [0., 0., 0., 0.],\n",
       "       [0., 0., 0., 0.]])"
      ]
     },
     "execution_count": 109,
     "metadata": {},
     "output_type": "execute_result"
    }
   ],
   "source": [
    "M = np.zeros((4,4))\n",
    "M"
   ]
  },
  {
   "cell_type": "code",
   "execution_count": 110,
   "id": "4c70791c",
   "metadata": {},
   "outputs": [
    {
     "data": {
      "text/plain": [
       "array([[2., 0., 0., 0.],\n",
       "       [0., 2., 0., 0.],\n",
       "       [0., 0., 2., 0.],\n",
       "       [0., 0., 0., 2.]])"
      ]
     },
     "execution_count": 110,
     "metadata": {},
     "output_type": "execute_result"
    }
   ],
   "source": [
    "np.fill_diagonal(M,2)\n",
    "M"
   ]
  },
  {
   "cell_type": "code",
   "execution_count": 112,
   "id": "f2471139",
   "metadata": {},
   "outputs": [
    {
     "data": {
      "text/plain": [
       "array([[2., 0., 0., 1.],\n",
       "       [0., 2., 0., 0.],\n",
       "       [0., 0., 2., 0.],\n",
       "       [1., 0., 0., 2.]])"
      ]
     },
     "execution_count": 112,
     "metadata": {},
     "output_type": "execute_result"
    }
   ],
   "source": [
    "M[(-1,0)] = 1\n",
    "M[(0,-1)] = 1\n",
    "M"
   ]
  },
  {
   "cell_type": "markdown",
   "id": "b260d2bf",
   "metadata": {},
   "source": [
    "# Resolver um sistema M*x = b"
   ]
  },
  {
   "cell_type": "code",
   "execution_count": 124,
   "id": "4002bc74",
   "metadata": {},
   "outputs": [
    {
     "data": {
      "text/plain": [
       "array([[ 3, -2,  0],\n",
       "       [-2,  1, -3],\n",
       "       [ 4,  6,  1]])"
      ]
     },
     "execution_count": 124,
     "metadata": {},
     "output_type": "execute_result"
    }
   ],
   "source": [
    "M = np.array([[3,-2,0],[-2,1,-3],[4,6,1]])\n",
    "M"
   ]
  },
  {
   "cell_type": "code",
   "execution_count": 125,
   "id": "9b6e86fc",
   "metadata": {},
   "outputs": [],
   "source": [
    "b = np.array([8,-20,7])"
   ]
  },
  {
   "cell_type": "code",
   "execution_count": 126,
   "id": "c376a21e",
   "metadata": {},
   "outputs": [],
   "source": [
    "x,y,z = np.linalg.solve(M,b)"
   ]
  },
  {
   "cell_type": "code",
   "execution_count": 127,
   "id": "a5b2a4c4",
   "metadata": {},
   "outputs": [
    {
     "data": {
      "text/plain": [
       "2.0"
      ]
     },
     "execution_count": 127,
     "metadata": {},
     "output_type": "execute_result"
    }
   ],
   "source": [
    "x"
   ]
  },
  {
   "cell_type": "code",
   "execution_count": 128,
   "id": "e3a9bf39",
   "metadata": {},
   "outputs": [
    {
     "data": {
      "text/plain": [
       "-0.9999999999999999"
      ]
     },
     "execution_count": 128,
     "metadata": {},
     "output_type": "execute_result"
    }
   ],
   "source": [
    "y"
   ]
  },
  {
   "cell_type": "code",
   "execution_count": 129,
   "id": "1930b3bc",
   "metadata": {},
   "outputs": [
    {
     "data": {
      "text/plain": [
       "4.999999999999999"
      ]
     },
     "execution_count": 129,
     "metadata": {},
     "output_type": "execute_result"
    }
   ],
   "source": [
    "z"
   ]
  },
  {
   "cell_type": "markdown",
   "id": "a47aa12c",
   "metadata": {},
   "source": [
    "# Matriz de rotação bidimensional"
   ]
  },
  {
   "cell_type": "code",
   "execution_count": 130,
   "id": "f7c5025a",
   "metadata": {},
   "outputs": [
    {
     "data": {
      "text/plain": [
       "0.5235987755982988"
      ]
     },
     "execution_count": 130,
     "metadata": {},
     "output_type": "execute_result"
    }
   ],
   "source": [
    "theta = np.pi/6\n",
    "theta"
   ]
  },
  {
   "cell_type": "code",
   "execution_count": 131,
   "id": "202f3350",
   "metadata": {},
   "outputs": [],
   "source": [
    "c = np.cos(theta)\n",
    "s = np.sin(theta)"
   ]
  },
  {
   "cell_type": "code",
   "execution_count": 132,
   "id": "6e08cda9",
   "metadata": {},
   "outputs": [
    {
     "data": {
      "text/plain": [
       "0.8660254037844387"
      ]
     },
     "execution_count": 132,
     "metadata": {},
     "output_type": "execute_result"
    }
   ],
   "source": [
    "c"
   ]
  },
  {
   "cell_type": "code",
   "execution_count": 133,
   "id": "5eae37ff",
   "metadata": {},
   "outputs": [
    {
     "data": {
      "text/plain": [
       "0.49999999999999994"
      ]
     },
     "execution_count": 133,
     "metadata": {},
     "output_type": "execute_result"
    }
   ],
   "source": [
    "s"
   ]
  },
  {
   "cell_type": "code",
   "execution_count": 134,
   "id": "9adb0064",
   "metadata": {},
   "outputs": [
    {
     "data": {
      "text/plain": [
       "array([[ 0.8660254, -0.5      ],\n",
       "       [ 0.5      ,  0.8660254]])"
      ]
     },
     "execution_count": 134,
     "metadata": {},
     "output_type": "execute_result"
    }
   ],
   "source": [
    "R = np.array([[c,-s],[s,c]])\n",
    "R"
   ]
  },
  {
   "cell_type": "code",
   "execution_count": 136,
   "id": "26a2d832",
   "metadata": {},
   "outputs": [],
   "source": [
    "a1,a2 = np.linalg.eigvals(R)"
   ]
  },
  {
   "cell_type": "code",
   "execution_count": 137,
   "id": "ebaef3d9",
   "metadata": {},
   "outputs": [
    {
     "data": {
      "text/plain": [
       "(0.8660254037844387+0.4999999999999999j)"
      ]
     },
     "execution_count": 137,
     "metadata": {},
     "output_type": "execute_result"
    }
   ],
   "source": [
    "a1"
   ]
  },
  {
   "cell_type": "code",
   "execution_count": 139,
   "id": "42d8dc79",
   "metadata": {},
   "outputs": [
    {
     "data": {
      "text/plain": [
       "(0.8660254037844387-0.4999999999999999j)"
      ]
     },
     "execution_count": 139,
     "metadata": {},
     "output_type": "execute_result"
    }
   ],
   "source": [
    "a2"
   ]
  },
  {
   "cell_type": "code",
   "execution_count": 140,
   "id": "2c91c9b8",
   "metadata": {},
   "outputs": [
    {
     "data": {
      "text/plain": [
       "numpy.complex128"
      ]
     },
     "execution_count": 140,
     "metadata": {},
     "output_type": "execute_result"
    }
   ],
   "source": [
    "type(a1)"
   ]
  },
  {
   "cell_type": "code",
   "execution_count": 141,
   "id": "26181be0",
   "metadata": {},
   "outputs": [
    {
     "data": {
      "text/plain": [
       "0.8660254037844387"
      ]
     },
     "execution_count": 141,
     "metadata": {},
     "output_type": "execute_result"
    }
   ],
   "source": [
    "a1.real"
   ]
  },
  {
   "cell_type": "code",
   "execution_count": 142,
   "id": "49b2cd80",
   "metadata": {},
   "outputs": [
    {
     "data": {
      "text/plain": [
       "0.4999999999999999"
      ]
     },
     "execution_count": 142,
     "metadata": {},
     "output_type": "execute_result"
    }
   ],
   "source": [
    "a1.imag"
   ]
  },
  {
   "cell_type": "markdown",
   "id": "b85a0c41",
   "metadata": {},
   "source": [
    "# Resolver sistema de Kirchoff"
   ]
  },
  {
   "cell_type": "code",
   "execution_count": 148,
   "id": "85c6ad34",
   "metadata": {},
   "outputs": [],
   "source": [
    "def circuit(R):\n",
    "    M = np.array([[50+R,-1,-30],[-R,65+R,-15],[-30,-15,45]])\n",
    "    b = np.array([0,0,120])\n",
    "    x = np.linalg.solve(M,b)\n",
    "    return x"
   ]
  },
  {
   "cell_type": "code",
   "execution_count": 149,
   "id": "6841a219",
   "metadata": {},
   "outputs": [
    {
     "data": {
      "text/plain": [
       "array([2.67298578, 1.23222749, 4.85939968])"
      ]
     },
     "execution_count": 149,
     "metadata": {},
     "output_type": "execute_result"
    }
   ],
   "source": [
    "circuit(5)"
   ]
  },
  {
   "cell_type": "code",
   "execution_count": 150,
   "id": "788fa4b5",
   "metadata": {},
   "outputs": [
    {
     "data": {
      "text/plain": [
       "array([2.34108527, 1.24031008, 4.64082687])"
      ]
     },
     "execution_count": 150,
     "metadata": {},
     "output_type": "execute_result"
    }
   ],
   "source": [
    "circuit(10)"
   ]
  },
  {
   "cell_type": "code",
   "execution_count": 151,
   "id": "8af75fc4",
   "metadata": {},
   "outputs": [
    {
     "data": {
      "text/plain": [
       "array([2.07741935, 1.22580645, 4.46021505])"
      ]
     },
     "execution_count": 151,
     "metadata": {},
     "output_type": "execute_result"
    }
   ],
   "source": [
    "circuit(15)"
   ]
  },
  {
   "cell_type": "code",
   "execution_count": null,
   "id": "d2828b12",
   "metadata": {},
   "outputs": [],
   "source": []
  }
 ],
 "metadata": {
  "kernelspec": {
   "display_name": "Python 3",
   "language": "python",
   "name": "python3"
  },
  "language_info": {
   "codemirror_mode": {
    "name": "ipython",
    "version": 3
   },
   "file_extension": ".py",
   "mimetype": "text/x-python",
   "name": "python",
   "nbconvert_exporter": "python",
   "pygments_lexer": "ipython3",
   "version": "3.8.5"
  }
 },
 "nbformat": 4,
 "nbformat_minor": 5
}
