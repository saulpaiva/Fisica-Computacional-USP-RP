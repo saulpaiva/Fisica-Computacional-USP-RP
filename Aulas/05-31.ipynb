{
 "cells": [
  {
   "cell_type": "code",
   "execution_count": 1,
   "id": "abb652cd",
   "metadata": {},
   "outputs": [],
   "source": [
    "import numpy as np"
   ]
  },
  {
   "cell_type": "code",
   "execution_count": 3,
   "id": "14b29823",
   "metadata": {
    "scrolled": true
   },
   "outputs": [],
   "source": [
    "#M x = b"
   ]
  },
  {
   "cell_type": "code",
   "execution_count": 4,
   "id": "1d60fb35",
   "metadata": {},
   "outputs": [],
   "source": [
    "M = np.array([[2,1,-1],\n",
    "             [1,3,2],\n",
    "             [3,-2,1]])"
   ]
  },
  {
   "cell_type": "code",
   "execution_count": 5,
   "id": "3a4fbb19",
   "metadata": {},
   "outputs": [],
   "source": [
    "b = np.array([3,4,-5])"
   ]
  },
  {
   "cell_type": "code",
   "execution_count": 6,
   "id": "e404cf4e",
   "metadata": {},
   "outputs": [],
   "source": [
    "sol = np.linalg.solve(M,b)"
   ]
  },
  {
   "cell_type": "code",
   "execution_count": 7,
   "id": "830a112a",
   "metadata": {},
   "outputs": [
    {
     "data": {
      "text/plain": [
       "array([ 0.,  2., -1.])"
      ]
     },
     "execution_count": 7,
     "metadata": {},
     "output_type": "execute_result"
    }
   ],
   "source": [
    "sol"
   ]
  },
  {
   "cell_type": "code",
   "execution_count": 8,
   "id": "ee8b7db7",
   "metadata": {},
   "outputs": [],
   "source": [
    "det_M = np.linalg.det(M)"
   ]
  },
  {
   "cell_type": "code",
   "execution_count": 9,
   "id": "ad8d996b",
   "metadata": {},
   "outputs": [
    {
     "data": {
      "text/plain": [
       "30.000000000000004"
      ]
     },
     "execution_count": 9,
     "metadata": {},
     "output_type": "execute_result"
    }
   ],
   "source": [
    "det_M"
   ]
  },
  {
   "cell_type": "code",
   "execution_count": 11,
   "id": "94e35082",
   "metadata": {},
   "outputs": [],
   "source": [
    "eigval,eivec = np.linalg.eig(M)"
   ]
  },
  {
   "cell_type": "code",
   "execution_count": 12,
   "id": "d18b8179",
   "metadata": {},
   "outputs": [
    {
     "data": {
      "text/plain": [
       "array([[ 2,  1,  3],\n",
       "       [ 1,  3, -2],\n",
       "       [-1,  2,  1]])"
      ]
     },
     "execution_count": 12,
     "metadata": {},
     "output_type": "execute_result"
    }
   ],
   "source": [
    "np.transpose(M)"
   ]
  },
  {
   "cell_type": "code",
   "execution_count": 13,
   "id": "ad71d7b4",
   "metadata": {},
   "outputs": [
    {
     "data": {
      "text/plain": [
       "6"
      ]
     },
     "execution_count": 13,
     "metadata": {},
     "output_type": "execute_result"
    }
   ],
   "source": [
    "np.trace(M)"
   ]
  },
  {
   "cell_type": "code",
   "execution_count": 14,
   "id": "1924ac67",
   "metadata": {},
   "outputs": [
    {
     "data": {
      "text/plain": [
       "array([2, 3, 1])"
      ]
     },
     "execution_count": 14,
     "metadata": {},
     "output_type": "execute_result"
    }
   ],
   "source": [
    "np.diag(M)"
   ]
  },
  {
   "cell_type": "code",
   "execution_count": 15,
   "id": "c559ceb6",
   "metadata": {},
   "outputs": [
    {
     "data": {
      "text/plain": [
       "array([[ 0.23333333,  0.03333333,  0.16666667],\n",
       "       [ 0.16666667,  0.16666667, -0.16666667],\n",
       "       [-0.36666667,  0.23333333,  0.16666667]])"
      ]
     },
     "execution_count": 15,
     "metadata": {},
     "output_type": "execute_result"
    }
   ],
   "source": [
    "#np.linalg.inv(M)"
   ]
  },
  {
   "cell_type": "code",
   "execution_count": 20,
   "id": "5f29a003",
   "metadata": {},
   "outputs": [],
   "source": [
    "x = 10"
   ]
  },
  {
   "cell_type": "code",
   "execution_count": null,
   "id": "838de0f7",
   "metadata": {},
   "outputs": [],
   "source": [
    "a = 5"
   ]
  },
  {
   "cell_type": "code",
   "execution_count": 21,
   "id": "58e012cc",
   "metadata": {},
   "outputs": [],
   "source": [
    "def função(x):\n",
    "    x += 1\n",
    "    return x"
   ]
  },
  {
   "cell_type": "code",
   "execution_count": 22,
   "id": "71c16abf",
   "metadata": {},
   "outputs": [
    {
     "data": {
      "text/plain": [
       "11"
      ]
     },
     "execution_count": 22,
     "metadata": {},
     "output_type": "execute_result"
    }
   ],
   "source": [
    "função(x)"
   ]
  },
  {
   "cell_type": "code",
   "execution_count": 23,
   "id": "52defeec",
   "metadata": {},
   "outputs": [
    {
     "data": {
      "text/plain": [
       "3"
      ]
     },
     "execution_count": 23,
     "metadata": {},
     "output_type": "execute_result"
    }
   ],
   "source": [
    "função(2)"
   ]
  },
  {
   "cell_type": "code",
   "execution_count": 24,
   "id": "f448cecc",
   "metadata": {},
   "outputs": [],
   "source": [
    "def function(*args,**kwargs):\n",
    "    return [args,kwargs]"
   ]
  },
  {
   "cell_type": "code",
   "execution_count": 25,
   "id": "89511467",
   "metadata": {},
   "outputs": [
    {
     "data": {
      "text/plain": [
       "[(4,), {}]"
      ]
     },
     "execution_count": 25,
     "metadata": {},
     "output_type": "execute_result"
    }
   ],
   "source": [
    "function(4)"
   ]
  },
  {
   "cell_type": "code",
   "execution_count": 26,
   "id": "68bc42ef",
   "metadata": {},
   "outputs": [
    {
     "data": {
      "text/plain": [
       "[(4, 'oi'), {}]"
      ]
     },
     "execution_count": 26,
     "metadata": {},
     "output_type": "execute_result"
    }
   ],
   "source": [
    "function(4,'oi')"
   ]
  },
  {
   "cell_type": "code",
   "execution_count": 27,
   "id": "9c145045",
   "metadata": {},
   "outputs": [
    {
     "data": {
      "text/plain": [
       "[(4, 'oi', 7.8), {}]"
      ]
     },
     "execution_count": 27,
     "metadata": {},
     "output_type": "execute_result"
    }
   ],
   "source": [
    "function(4,'oi',7.8)"
   ]
  },
  {
   "cell_type": "code",
   "execution_count": 29,
   "id": "1b39a664",
   "metadata": {},
   "outputs": [],
   "source": [
    "a,ka = function(4,'oi',7.8,nome='Saul')"
   ]
  },
  {
   "cell_type": "code",
   "execution_count": 30,
   "id": "95f5f58c",
   "metadata": {},
   "outputs": [
    {
     "data": {
      "text/plain": [
       "(4, 'oi', 7.8)"
      ]
     },
     "execution_count": 30,
     "metadata": {},
     "output_type": "execute_result"
    }
   ],
   "source": [
    "a"
   ]
  },
  {
   "cell_type": "code",
   "execution_count": 31,
   "id": "f9763843",
   "metadata": {},
   "outputs": [
    {
     "data": {
      "text/plain": [
       "{'nome': 'Saul'}"
      ]
     },
     "execution_count": 31,
     "metadata": {},
     "output_type": "execute_result"
    }
   ],
   "source": [
    "ka"
   ]
  },
  {
   "cell_type": "code",
   "execution_count": 33,
   "id": "fa77ab67",
   "metadata": {},
   "outputs": [
    {
     "data": {
      "text/plain": [
       "dict_values(['Saul'])"
      ]
     },
     "execution_count": 33,
     "metadata": {},
     "output_type": "execute_result"
    }
   ],
   "source": [
    "ka.values()"
   ]
  },
  {
   "cell_type": "code",
   "execution_count": 35,
   "id": "0ae3984b",
   "metadata": {},
   "outputs": [
    {
     "data": {
      "text/plain": [
       "'Saul'"
      ]
     },
     "execution_count": 35,
     "metadata": {},
     "output_type": "execute_result"
    }
   ],
   "source": [
    "ka.get('nome')"
   ]
  },
  {
   "cell_type": "code",
   "execution_count": 41,
   "id": "aa829a6a",
   "metadata": {},
   "outputs": [],
   "source": [
    "a = 5"
   ]
  },
  {
   "cell_type": "code",
   "execution_count": 42,
   "id": "6017d38f",
   "metadata": {},
   "outputs": [],
   "source": [
    "x = 10"
   ]
  },
  {
   "cell_type": "code",
   "execution_count": 45,
   "id": "bed86858",
   "metadata": {},
   "outputs": [],
   "source": [
    "def function2(*args,**kwargs):\n",
    "    var = args[0] + args[1] + kwargs.get('valor')\n",
    "    return var"
   ]
  },
  {
   "cell_type": "code",
   "execution_count": 49,
   "id": "6f28aedc",
   "metadata": {},
   "outputs": [],
   "source": [
    "def function3(*args,**kwargs):\n",
    "    var = args[0] + 10\n",
    "    return var"
   ]
  },
  {
   "cell_type": "code",
   "execution_count": 50,
   "id": "f883473f",
   "metadata": {},
   "outputs": [
    {
     "data": {
      "text/plain": [
       "20"
      ]
     },
     "execution_count": 50,
     "metadata": {},
     "output_type": "execute_result"
    }
   ],
   "source": [
    "function3(x)"
   ]
  },
  {
   "cell_type": "code",
   "execution_count": 51,
   "id": "2fb2f663",
   "metadata": {},
   "outputs": [
    {
     "data": {
      "text/plain": [
       "109"
      ]
     },
     "execution_count": 51,
     "metadata": {},
     "output_type": "execute_result"
    }
   ],
   "source": [
    "function2(2,7,valor=100)"
   ]
  },
  {
   "cell_type": "code",
   "execution_count": 57,
   "id": "d2f21fba",
   "metadata": {},
   "outputs": [],
   "source": [
    "def f3(L1,L2):\n",
    "    return [L1,L2]"
   ]
  },
  {
   "cell_type": "code",
   "execution_count": 58,
   "id": "c8a945a7",
   "metadata": {},
   "outputs": [
    {
     "data": {
      "text/plain": [
       "[[3, 5, 6], [4, 8, 0]]"
      ]
     },
     "execution_count": 58,
     "metadata": {},
     "output_type": "execute_result"
    }
   ],
   "source": [
    "f3([3,5,6],[4,8,0])"
   ]
  },
  {
   "cell_type": "code",
   "execution_count": 59,
   "id": "2f52a608",
   "metadata": {},
   "outputs": [],
   "source": [
    "def f3(L1,L2):\n",
    "    \"\"\"\n",
    "    Função aleatória 3\n",
    "    \"\"\"\n",
    "    \n",
    "    \n",
    "    return [L1,L2]"
   ]
  },
  {
   "cell_type": "code",
   "execution_count": 60,
   "id": "782e34c0",
   "metadata": {},
   "outputs": [],
   "source": [
    "l = np.array([2,8,3,4,20,7,14,100,53])"
   ]
  },
  {
   "cell_type": "code",
   "execution_count": 61,
   "id": "c9379302",
   "metadata": {},
   "outputs": [
    {
     "data": {
      "text/plain": [
       "array([  2,   8,   3,   4,  20,   7,  14, 100,  53])"
      ]
     },
     "execution_count": 61,
     "metadata": {},
     "output_type": "execute_result"
    }
   ],
   "source": [
    "l"
   ]
  },
  {
   "cell_type": "code",
   "execution_count": 64,
   "id": "540ab458",
   "metadata": {},
   "outputs": [],
   "source": [
    "l1 = l - min(l)"
   ]
  },
  {
   "cell_type": "code",
   "execution_count": 65,
   "id": "609d69fb",
   "metadata": {},
   "outputs": [
    {
     "data": {
      "text/plain": [
       "array([ 0,  6,  1,  2, 18,  5, 12, 98, 51])"
      ]
     },
     "execution_count": 65,
     "metadata": {},
     "output_type": "execute_result"
    }
   ],
   "source": [
    "l1"
   ]
  },
  {
   "cell_type": "code",
   "execution_count": 62,
   "id": "f4cf4b3a",
   "metadata": {},
   "outputs": [
    {
     "data": {
      "text/plain": [
       "100"
      ]
     },
     "execution_count": 62,
     "metadata": {},
     "output_type": "execute_result"
    }
   ],
   "source": [
    "max(l)"
   ]
  },
  {
   "cell_type": "code",
   "execution_count": 63,
   "id": "698504b0",
   "metadata": {},
   "outputs": [
    {
     "data": {
      "text/plain": [
       "2"
      ]
     },
     "execution_count": 63,
     "metadata": {},
     "output_type": "execute_result"
    }
   ],
   "source": [
    "min(l)"
   ]
  },
  {
   "cell_type": "code",
   "execution_count": 66,
   "id": "010c50ca",
   "metadata": {},
   "outputs": [
    {
     "data": {
      "text/plain": [
       "98"
      ]
     },
     "execution_count": 66,
     "metadata": {},
     "output_type": "execute_result"
    }
   ],
   "source": [
    "max(l) - min(l)"
   ]
  },
  {
   "cell_type": "code",
   "execution_count": 67,
   "id": "a814a95e",
   "metadata": {},
   "outputs": [],
   "source": [
    "a = l - min(l)\n",
    "b = max(l) - min(l)"
   ]
  },
  {
   "cell_type": "code",
   "execution_count": 68,
   "id": "d60ea033",
   "metadata": {},
   "outputs": [],
   "source": [
    "c = a/b"
   ]
  },
  {
   "cell_type": "code",
   "execution_count": 69,
   "id": "e1a0e8fd",
   "metadata": {},
   "outputs": [
    {
     "data": {
      "text/plain": [
       "array([0.        , 0.06122449, 0.01020408, 0.02040816, 0.18367347,\n",
       "       0.05102041, 0.12244898, 1.        , 0.52040816])"
      ]
     },
     "execution_count": 69,
     "metadata": {},
     "output_type": "execute_result"
    }
   ],
   "source": [
    "c"
   ]
  },
  {
   "cell_type": "code",
   "execution_count": 70,
   "id": "34694b28",
   "metadata": {},
   "outputs": [
    {
     "data": {
      "text/plain": [
       "array([0.        , 0.01020408, 0.02040816, 0.05102041, 0.06122449,\n",
       "       0.12244898, 0.18367347, 0.52040816, 1.        ])"
      ]
     },
     "execution_count": 70,
     "metadata": {},
     "output_type": "execute_result"
    }
   ],
   "source": [
    "np.sort(c)"
   ]
  },
  {
   "cell_type": "code",
   "execution_count": 72,
   "id": "28c35d61",
   "metadata": {},
   "outputs": [],
   "source": [
    "def mapear_0_1(L):\n",
    "    a = L - min(L)\n",
    "    b = max(L) - min(L)\n",
    "    c = a/b\n",
    "    return np.sort(c)"
   ]
  },
  {
   "cell_type": "code",
   "execution_count": 74,
   "id": "77fbc8f2",
   "metadata": {},
   "outputs": [
    {
     "data": {
      "text/plain": [
       "array([0.        , 0.01020408, 0.02040816, 0.05102041, 0.06122449,\n",
       "       0.12244898, 0.18367347, 0.52040816, 1.        ])"
      ]
     },
     "execution_count": 74,
     "metadata": {},
     "output_type": "execute_result"
    }
   ],
   "source": [
    "mapear_0_1(l)"
   ]
  },
  {
   "cell_type": "code",
   "execution_count": 82,
   "id": "2aae0f40",
   "metadata": {},
   "outputs": [
    {
     "data": {
      "text/plain": [
       "array([-190,  802, -533,  123, -920, -351,  395,  -44, -959, -215,   94,\n",
       "        735, -429, -329,  497,  191, -310, -841,  241,  590])"
      ]
     },
     "execution_count": 82,
     "metadata": {},
     "output_type": "execute_result"
    }
   ],
   "source": [
    "n = np.random.randint(-1000,1000,20)\n",
    "n"
   ]
  },
  {
   "cell_type": "code",
   "execution_count": 83,
   "id": "9efdf184",
   "metadata": {},
   "outputs": [
    {
     "data": {
      "text/plain": [
       "array([0.        , 0.02214651, 0.06700738, 0.24190801, 0.30096536,\n",
       "       0.34525838, 0.35775128, 0.3685406 , 0.42248722, 0.4366837 ,\n",
       "       0.51959114, 0.59795571, 0.61442362, 0.65303805, 0.68143101,\n",
       "       0.76888132, 0.82680295, 0.87961386, 0.96195344, 1.        ])"
      ]
     },
     "execution_count": 83,
     "metadata": {},
     "output_type": "execute_result"
    }
   ],
   "source": [
    "mapear_0_1(n)"
   ]
  },
  {
   "cell_type": "code",
   "execution_count": 86,
   "id": "adfdb00e",
   "metadata": {},
   "outputs": [],
   "source": [
    "def vizinhos(v,idx):\n",
    "    \n",
    "    v1 = (v[idx-2],v[idx-1],v[idx],v[idx+1],v[idx+2])\n",
    " \n",
    "    \n",
    "    \n",
    "    \n",
    "    return v1"
   ]
  },
  {
   "cell_type": "code",
   "execution_count": 87,
   "id": "23033805",
   "metadata": {},
   "outputs": [
    {
     "data": {
      "text/plain": [
       "(100, 53, 2, 8, 3)"
      ]
     },
     "execution_count": 87,
     "metadata": {},
     "output_type": "execute_result"
    }
   ],
   "source": [
    "vizinhos(l,0)"
   ]
  },
  {
   "cell_type": "code",
   "execution_count": 89,
   "id": "5feb3963",
   "metadata": {},
   "outputs": [],
   "source": [
    "# automaticamente a lista entende como cíclico os índices"
   ]
  },
  {
   "cell_type": "code",
   "execution_count": 104,
   "id": "40d1867d",
   "metadata": {},
   "outputs": [],
   "source": [
    "n1 = np.arange(0,11,1)\n",
    "n2 = np.arange(1,11,1)"
   ]
  },
  {
   "cell_type": "code",
   "execution_count": 105,
   "id": "38463dc9",
   "metadata": {},
   "outputs": [
    {
     "data": {
      "text/plain": [
       "array([ 0,  1,  2,  3,  4,  5,  6,  7,  8,  9, 10])"
      ]
     },
     "execution_count": 105,
     "metadata": {},
     "output_type": "execute_result"
    }
   ],
   "source": [
    "n1"
   ]
  },
  {
   "cell_type": "code",
   "execution_count": 106,
   "id": "3b602b73",
   "metadata": {},
   "outputs": [
    {
     "data": {
      "text/plain": [
       "array([ 1,  2,  3,  4,  5,  6,  7,  8,  9, 10])"
      ]
     },
     "execution_count": 106,
     "metadata": {},
     "output_type": "execute_result"
    }
   ],
   "source": [
    "n2"
   ]
  },
  {
   "cell_type": "code",
   "execution_count": 107,
   "id": "89de93e9",
   "metadata": {},
   "outputs": [
    {
     "data": {
      "text/plain": [
       "array([ 0,  2,  4,  6,  8, 10])"
      ]
     },
     "execution_count": 107,
     "metadata": {},
     "output_type": "execute_result"
    }
   ],
   "source": [
    "n1[::2]"
   ]
  },
  {
   "cell_type": "code",
   "execution_count": 108,
   "id": "0bce3597",
   "metadata": {},
   "outputs": [
    {
     "data": {
      "text/plain": [
       "array([1, 3, 5, 7, 9])"
      ]
     },
     "execution_count": 108,
     "metadata": {},
     "output_type": "execute_result"
    }
   ],
   "source": [
    "n1[1::2]"
   ]
  },
  {
   "cell_type": "code",
   "execution_count": 109,
   "id": "a77208dc",
   "metadata": {},
   "outputs": [
    {
     "data": {
      "text/plain": [
       "array([ 2,  4,  6,  8, 10])"
      ]
     },
     "execution_count": 109,
     "metadata": {},
     "output_type": "execute_result"
    }
   ],
   "source": [
    "n1[2::2]"
   ]
  },
  {
   "cell_type": "code",
   "execution_count": null,
   "id": "a636bb8b",
   "metadata": {},
   "outputs": [],
   "source": []
  }
 ],
 "metadata": {
  "kernelspec": {
   "display_name": "Python 3",
   "language": "python",
   "name": "python3"
  },
  "language_info": {
   "codemirror_mode": {
    "name": "ipython",
    "version": 3
   },
   "file_extension": ".py",
   "mimetype": "text/x-python",
   "name": "python",
   "nbconvert_exporter": "python",
   "pygments_lexer": "ipython3",
   "version": "3.8.8"
  }
 },
 "nbformat": 4,
 "nbformat_minor": 5
}
